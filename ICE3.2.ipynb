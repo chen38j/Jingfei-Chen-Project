{
 "cells": [
  {
   "cell_type": "markdown",
   "metadata": {},
   "source": [
    "## ICE3: Knowledge Inference"
   ]
  },
  {
   "cell_type": "markdown",
   "metadata": {},
   "source": [
    "### Basic Ideas Behind Knowledge Inference"
   ]
  },
  {
   "cell_type": "markdown",
   "metadata": {},
   "source": [
    "For several decades now, assessment has become an increasingly pressing educational priority. The purpose for the assessment technologies in learning is often to use a series of well-designed challenges/tasks/questions to infer students' mastery of knowledge or cognitive capacity in general. The task sounds simple, but we all have experienced things such as test anxiety, luck, slip, ect. during a test. So, the simplistic assessment model of adding everything up may not be a very good way to estimate one's knowledge. A lot of research in the educational world (not only LA/EDM but also psychometrics) has been done on this problem of evaluating whether a student knows or doesn't know something based on the data we can obtain -- hence knoweldge inference."
   ]
  },
  {
   "cell_type": "markdown",
   "metadata": {},
   "source": [
    "### Knowledge Tracing"
   ]
  },
  {
   "cell_type": "markdown",
   "metadata": {},
   "source": [
    "There are a lot of different types of knowledge inference models and one of the best-known model that's been used in the field of educational data mining is Knowledge Tracing. Knowledge tracing is a type of Latent knowledge estimation. But, why do we call it Latent Knowledge Estimation? Well, the reason why we use the word latent is because we have no way of actually directly observing whether a student knows something or not. We can't really well go and look at the student's brain to see if they have the right connection. And we can't really ask the student either because although some students are going to be really good at telling us what they do know and don't know, some other student might think that they know something but they don't actually, or they might not realize that they know something when they do know. And so, we need to assess or estimate something that can't be absurd and that's why we call it latent. So, we can't observe the knowledge itself, but what we can observe is whether the student is able to apply a knowledge component in a specific context. And this will give us indirect information about whether or not the student knows this knowledge component.\n",
    "\n",
    "The idea behind knowledge tracing is based of probablistic statistics: (a) What we want to infer is not definitively whether the student knows or not; what we want to infer the probablity of them knowing. And the probablity of knowing will impact the result of student answering a question correctly. (b) There are other factors that might impact the result (e.g., guessing, making a slip). So let's all include these in our knowledge tracing model. There are different implementation of knowledge tracing (e.g., Bayesian Knowledge Tracing, Logistic Knowledge Tracing) and here is a interactive module for you to learn more about BKT: https://www.cs.williams.edu/~iris/res/bkt-balloon/index.html#start\n",
    "\n",
    "Here is a thorough tutorial GitHub repo (data included) for BKT in Python by Badrinath et al. (2021). So I am not going to reinvent the wheel:\n",
    "\n",
    "Quick start: https://colab.research.google.com/drive/13abu919edUXbvPV3qeGPpvwnFBExU7Vd\n",
    "More comprehensive tutorial notebook: https://colab.research.google.com/drive/13abu919edUXbvPV3qeGPpvwnFBExU7Vd#scrollTo=qkiQ1CbrWbrQ"
   ]
  },
  {
   "cell_type": "markdown",
   "metadata": {
    "id": "DxhLN0z_Lavy"
   },
   "source": [
    "### BKT Model Tutorial"
   ]
  },
  {
   "cell_type": "code",
   "execution_count": null,
   "metadata": {
    "id": "FR0xFmRapK-e"
   },
   "outputs": [],
   "source": [
    "# Install pyBKT from pip!\n",
    "!pip install pyBKT\n",
    "\n",
    "# Import all required packages including pyBKT.models.Model!\n",
    "import numpy as np\n",
    "import pandas as pd\n",
    "from pyBKT.models import Model\n",
    "import matplotlib.pyplot as plt"
   ]
  },
  {
   "cell_type": "markdown",
   "metadata": {
    "id": "8vXtO4xCL_7p"
   },
   "source": [
    "### Basic Model Creation and Evaluation\n",
    "\n",
    "Initialize the model with an optional seed and number of fit initializations. Note that the Model constructor supports many more parameters such as the model variant (which can be modified at fit time), whether to parallelize computation, and more."
   ]
  },
  {
   "cell_type": "code",
   "execution_count": null,
   "metadata": {
    "id": "SDSfYxsrpQEb"
   },
   "outputs": [],
   "source": [
    "# Note that the seed chosen is so we can consistently\n",
    "# replicate the results and avoid as much randomness\n",
    "# as possible.\n",
    "model = Model(seed = 42, num_fits = 1)"
   ]
  },
  {
   "cell_type": "markdown",
   "metadata": {
    "id": "b00tYJERMPBr"
   },
   "source": [
    "Fetch Assistments and CognitiveTutor data to the local disk. We will be using these datasets, but you can use any that you see fit when you use pyBKT. The data formats accepted by pyBKT are comma separated and tab separated files (note that pyBKT will automatically infer which is passed in). Note that the correctness is given by -1 (no response), 0 (incorrect), or 1 (correct)."
   ]
  },
  {
   "cell_type": "code",
   "execution_count": null,
   "metadata": {
    "id": "OWu1ZaT_qP9Z"
   },
   "outputs": [],
   "source": [
    "model.fetch_dataset('https://raw.githubusercontent.com/CAHLR/pyBKT-examples/master/data/as.csv', '.')\n",
    "model.fetch_dataset('https://raw.githubusercontent.com/CAHLR/pyBKT-examples/master/data/ct.csv', '.')"
   ]
  },
  {
   "cell_type": "markdown",
   "metadata": {
    "id": "DTKs7JGSMu1G"
   },
   "source": [
    "We open the given datasets and explore them before using them to fit BKT models using pyBKT. Note that the column names describing the student ID, the problem name, the response's correctness and skill name all differ between the two datasets."
   ]
  },
  {
   "cell_type": "code",
   "execution_count": null,
   "metadata": {
    "colab": {
     "base_uri": "https://localhost:8080/",
     "height": 674
    },
    "id": "hg06svJsM6oj",
    "outputId": "dcf557f2-7c94-4d6a-f81a-3f5db0ec2906"
   },
   "outputs": [
    {
     "name": "stdout",
     "output_type": "stream",
     "text": [
      "Index(['Unnamed: 0', 'Row', 'Anon Student Id', 'Problem Hierarchy',\n",
      "       'Problem Name', 'Problem View', 'Step Name', 'Step Start Time',\n",
      "       'First Transaction Time', 'Correct Transaction Time', 'Step End Time',\n",
      "       'Step Duration (sec)', 'Correct Step Duration (sec)',\n",
      "       'Error Step Duration (sec)', 'Correct First Attempt', 'Incorrects',\n",
      "       'Hints', 'Corrects', 'KC(Default)', 'Opportunity(Default)'],\n",
      "      dtype='object')\n"
     ]
    },
    {
     "data": {
      "text/html": [
       "<div>\n",
       "<style scoped>\n",
       "    .dataframe tbody tr th:only-of-type {\n",
       "        vertical-align: middle;\n",
       "    }\n",
       "\n",
       "    .dataframe tbody tr th {\n",
       "        vertical-align: top;\n",
       "    }\n",
       "\n",
       "    .dataframe thead th {\n",
       "        text-align: right;\n",
       "    }\n",
       "</style>\n",
       "<table border=\"1\" class=\"dataframe\">\n",
       "  <thead>\n",
       "    <tr style=\"text-align: right;\">\n",
       "      <th></th>\n",
       "      <th>Unnamed: 0</th>\n",
       "      <th>Row</th>\n",
       "      <th>Anon Student Id</th>\n",
       "      <th>Problem Hierarchy</th>\n",
       "      <th>Problem Name</th>\n",
       "      <th>Problem View</th>\n",
       "      <th>Step Name</th>\n",
       "      <th>Step Start Time</th>\n",
       "      <th>First Transaction Time</th>\n",
       "      <th>Correct Transaction Time</th>\n",
       "      <th>Step End Time</th>\n",
       "      <th>Step Duration (sec)</th>\n",
       "      <th>Correct Step Duration (sec)</th>\n",
       "      <th>Error Step Duration (sec)</th>\n",
       "      <th>Correct First Attempt</th>\n",
       "      <th>Incorrects</th>\n",
       "      <th>Hints</th>\n",
       "      <th>Corrects</th>\n",
       "      <th>KC(Default)</th>\n",
       "      <th>Opportunity(Default)</th>\n",
       "    </tr>\n",
       "  </thead>\n",
       "  <tbody>\n",
       "    <tr>\n",
       "      <th>0</th>\n",
       "      <td>1576</td>\n",
       "      <td>1927</td>\n",
       "      <td>745Yh</td>\n",
       "      <td>Unit RATIO-PROPORTION, Section RATIO-PROPORTION-2</td>\n",
       "      <td>RATIO2-001</td>\n",
       "      <td>1</td>\n",
       "      <td>SimplifiedNumeratorQuantity1</td>\n",
       "      <td>2006-11-14 10:18:00.0</td>\n",
       "      <td>2006-11-14 10:18:05.0</td>\n",
       "      <td>2006-11-14 10:18:05.0</td>\n",
       "      <td>2006-11-14 10:18:05.0</td>\n",
       "      <td>5.00000</td>\n",
       "      <td>5.00000</td>\n",
       "      <td>nan</td>\n",
       "      <td>1</td>\n",
       "      <td>0</td>\n",
       "      <td>0</td>\n",
       "      <td>1</td>\n",
       "      <td>Calculate unit rate</td>\n",
       "      <td>1</td>\n",
       "    </tr>\n",
       "    <tr>\n",
       "      <th>1</th>\n",
       "      <td>1580</td>\n",
       "      <td>1931</td>\n",
       "      <td>745Yh</td>\n",
       "      <td>Unit RATIO-PROPORTION, Section RATIO-PROPORTION-2</td>\n",
       "      <td>RATIO2-001</td>\n",
       "      <td>1</td>\n",
       "      <td>SimplifiedNumeratorQuantity2</td>\n",
       "      <td>2006-11-14 10:18:11.0</td>\n",
       "      <td>2006-11-14 10:18:17.0</td>\n",
       "      <td>2006-11-14 10:18:34.0</td>\n",
       "      <td>2006-11-14 10:18:34.0</td>\n",
       "      <td>23.00000</td>\n",
       "      <td>nan</td>\n",
       "      <td>23.00000</td>\n",
       "      <td>0</td>\n",
       "      <td>1</td>\n",
       "      <td>0</td>\n",
       "      <td>1</td>\n",
       "      <td>Calculate unit rate</td>\n",
       "      <td>2</td>\n",
       "    </tr>\n",
       "    <tr>\n",
       "      <th>2</th>\n",
       "      <td>1596</td>\n",
       "      <td>1947</td>\n",
       "      <td>745Yh</td>\n",
       "      <td>Unit RATIO-PROPORTION, Section RATIO-PROPORTION-2</td>\n",
       "      <td>RATIO2-012</td>\n",
       "      <td>1</td>\n",
       "      <td>SimplifiedNumeratorQuantity1</td>\n",
       "      <td>2006-11-14 10:50:52.0</td>\n",
       "      <td>2006-11-14 10:50:57.0</td>\n",
       "      <td>2006-11-14 10:51:11.0</td>\n",
       "      <td>2006-11-14 10:51:11.0</td>\n",
       "      <td>18.00000</td>\n",
       "      <td>nan</td>\n",
       "      <td>18.00000</td>\n",
       "      <td>0</td>\n",
       "      <td>1</td>\n",
       "      <td>0</td>\n",
       "      <td>1</td>\n",
       "      <td>Calculate unit rate</td>\n",
       "      <td>3</td>\n",
       "    </tr>\n",
       "    <tr>\n",
       "      <th>3</th>\n",
       "      <td>1597</td>\n",
       "      <td>1948</td>\n",
       "      <td>745Yh</td>\n",
       "      <td>Unit RATIO-PROPORTION, Section RATIO-PROPORTION-2</td>\n",
       "      <td>RATIO2-012</td>\n",
       "      <td>1</td>\n",
       "      <td>SimplifiedNumeratorQuantity2</td>\n",
       "      <td>2006-11-14 10:51:11.0</td>\n",
       "      <td>2006-11-14 10:51:14.0</td>\n",
       "      <td>2006-11-14 10:51:14.0</td>\n",
       "      <td>2006-11-14 10:51:14.0</td>\n",
       "      <td>3.00000</td>\n",
       "      <td>3.00000</td>\n",
       "      <td>nan</td>\n",
       "      <td>1</td>\n",
       "      <td>0</td>\n",
       "      <td>0</td>\n",
       "      <td>1</td>\n",
       "      <td>Calculate unit rate</td>\n",
       "      <td>4</td>\n",
       "    </tr>\n",
       "    <tr>\n",
       "      <th>4</th>\n",
       "      <td>1612</td>\n",
       "      <td>1963</td>\n",
       "      <td>745Yh</td>\n",
       "      <td>Unit RATIO-PROPORTION, Section RATIO-PROPORTION-2</td>\n",
       "      <td>RATIO2-054</td>\n",
       "      <td>1</td>\n",
       "      <td>SimplifiedNumeratorQuantity2</td>\n",
       "      <td>2006-11-28 09:53:43.0</td>\n",
       "      <td>2006-11-28 09:53:47.0</td>\n",
       "      <td>2006-11-28 09:53:56.0</td>\n",
       "      <td>2006-11-28 09:53:56.0</td>\n",
       "      <td>13.00000</td>\n",
       "      <td>nan</td>\n",
       "      <td>13.00000</td>\n",
       "      <td>0</td>\n",
       "      <td>1</td>\n",
       "      <td>0</td>\n",
       "      <td>1</td>\n",
       "      <td>Calculate unit rate</td>\n",
       "      <td>5</td>\n",
       "    </tr>\n",
       "  </tbody>\n",
       "</table>\n",
       "</div>"
      ],
      "text/plain": [
       "   Unnamed: 0   Row  ...          KC(Default) Opportunity(Default)\n",
       "0        1576  1927  ...  Calculate unit rate                    1\n",
       "1        1580  1931  ...  Calculate unit rate                    2\n",
       "2        1596  1947  ...  Calculate unit rate                    3\n",
       "3        1597  1948  ...  Calculate unit rate                    4\n",
       "4        1612  1963  ...  Calculate unit rate                    5\n",
       "\n",
       "[5 rows x 20 columns]"
      ]
     },
     "execution_count": 4,
     "metadata": {
      "tags": []
     },
     "output_type": "execute_result"
    }
   ],
   "source": [
    "ct_df = pd.read_csv('ct.csv', encoding = 'latin')\n",
    "print(ct_df.columns)\n",
    "ct_df.head(5)"
   ]
  },
  {
   "cell_type": "code",
   "execution_count": null,
   "metadata": {
    "colab": {
     "base_uri": "https://localhost:8080/",
     "height": 468
    },
    "id": "fMElhjrNNtI4",
    "outputId": "09943343-d5de-41e6-d47f-13bff27411cf"
   },
   "outputs": [
    {
     "name": "stdout",
     "output_type": "stream",
     "text": [
      "Index(['order_id', 'assignment_id', 'user_id', 'assistment_id', 'problem_id',\n",
      "       'original', 'correct', 'attempt_count', 'ms_first_response',\n",
      "       'tutor_mode', 'answer_type', 'sequence_id', 'student_class_id',\n",
      "       'position', 'type', 'base_sequence_id', 'skill_id', 'skill_name',\n",
      "       'teacher_id', 'school_id', 'hint_count', 'hint_total', 'overlap_time',\n",
      "       'template_id', 'answer_id', 'answer_text', 'first_action',\n",
      "       'bottom_hint', 'opportunity', 'opportunity_original'],\n",
      "      dtype='object')\n"
     ]
    },
    {
     "data": {
      "text/html": [
       "<div>\n",
       "<style scoped>\n",
       "    .dataframe tbody tr th:only-of-type {\n",
       "        vertical-align: middle;\n",
       "    }\n",
       "\n",
       "    .dataframe tbody tr th {\n",
       "        vertical-align: top;\n",
       "    }\n",
       "\n",
       "    .dataframe thead th {\n",
       "        text-align: right;\n",
       "    }\n",
       "</style>\n",
       "<table border=\"1\" class=\"dataframe\">\n",
       "  <thead>\n",
       "    <tr style=\"text-align: right;\">\n",
       "      <th></th>\n",
       "      <th>order_id</th>\n",
       "      <th>assignment_id</th>\n",
       "      <th>user_id</th>\n",
       "      <th>assistment_id</th>\n",
       "      <th>problem_id</th>\n",
       "      <th>original</th>\n",
       "      <th>correct</th>\n",
       "      <th>attempt_count</th>\n",
       "      <th>ms_first_response</th>\n",
       "      <th>tutor_mode</th>\n",
       "      <th>answer_type</th>\n",
       "      <th>sequence_id</th>\n",
       "      <th>student_class_id</th>\n",
       "      <th>position</th>\n",
       "      <th>type</th>\n",
       "      <th>base_sequence_id</th>\n",
       "      <th>skill_id</th>\n",
       "      <th>skill_name</th>\n",
       "      <th>teacher_id</th>\n",
       "      <th>school_id</th>\n",
       "      <th>hint_count</th>\n",
       "      <th>hint_total</th>\n",
       "      <th>overlap_time</th>\n",
       "      <th>template_id</th>\n",
       "      <th>answer_id</th>\n",
       "      <th>answer_text</th>\n",
       "      <th>first_action</th>\n",
       "      <th>bottom_hint</th>\n",
       "      <th>opportunity</th>\n",
       "      <th>opportunity_original</th>\n",
       "    </tr>\n",
       "  </thead>\n",
       "  <tbody>\n",
       "    <tr>\n",
       "      <th>0</th>\n",
       "      <td>33022537</td>\n",
       "      <td>277618</td>\n",
       "      <td>64525</td>\n",
       "      <td>33139</td>\n",
       "      <td>51424</td>\n",
       "      <td>1</td>\n",
       "      <td>1</td>\n",
       "      <td>1</td>\n",
       "      <td>32454</td>\n",
       "      <td>tutor</td>\n",
       "      <td>algebra</td>\n",
       "      <td>5948</td>\n",
       "      <td>13241</td>\n",
       "      <td>126</td>\n",
       "      <td>MasterySection</td>\n",
       "      <td>5948</td>\n",
       "      <td>1.00000</td>\n",
       "      <td>Box and Whisker</td>\n",
       "      <td>22763</td>\n",
       "      <td>73</td>\n",
       "      <td>0</td>\n",
       "      <td>3</td>\n",
       "      <td>32454</td>\n",
       "      <td>30799</td>\n",
       "      <td>nan</td>\n",
       "      <td>26</td>\n",
       "      <td>0</td>\n",
       "      <td>nan</td>\n",
       "      <td>1</td>\n",
       "      <td>1.00000</td>\n",
       "    </tr>\n",
       "    <tr>\n",
       "      <th>1</th>\n",
       "      <td>33022709</td>\n",
       "      <td>277618</td>\n",
       "      <td>64525</td>\n",
       "      <td>33150</td>\n",
       "      <td>51435</td>\n",
       "      <td>1</td>\n",
       "      <td>1</td>\n",
       "      <td>1</td>\n",
       "      <td>4922</td>\n",
       "      <td>tutor</td>\n",
       "      <td>algebra</td>\n",
       "      <td>5948</td>\n",
       "      <td>13241</td>\n",
       "      <td>126</td>\n",
       "      <td>MasterySection</td>\n",
       "      <td>5948</td>\n",
       "      <td>1.00000</td>\n",
       "      <td>Box and Whisker</td>\n",
       "      <td>22763</td>\n",
       "      <td>73</td>\n",
       "      <td>0</td>\n",
       "      <td>3</td>\n",
       "      <td>4922</td>\n",
       "      <td>30799</td>\n",
       "      <td>nan</td>\n",
       "      <td>55</td>\n",
       "      <td>0</td>\n",
       "      <td>nan</td>\n",
       "      <td>2</td>\n",
       "      <td>2.00000</td>\n",
       "    </tr>\n",
       "    <tr>\n",
       "      <th>2</th>\n",
       "      <td>35450204</td>\n",
       "      <td>220674</td>\n",
       "      <td>70363</td>\n",
       "      <td>33159</td>\n",
       "      <td>51444</td>\n",
       "      <td>1</td>\n",
       "      <td>0</td>\n",
       "      <td>2</td>\n",
       "      <td>25390</td>\n",
       "      <td>tutor</td>\n",
       "      <td>algebra</td>\n",
       "      <td>5948</td>\n",
       "      <td>11816</td>\n",
       "      <td>22</td>\n",
       "      <td>MasterySection</td>\n",
       "      <td>5948</td>\n",
       "      <td>1.00000</td>\n",
       "      <td>Box and Whisker</td>\n",
       "      <td>22763</td>\n",
       "      <td>73</td>\n",
       "      <td>0</td>\n",
       "      <td>3</td>\n",
       "      <td>42000</td>\n",
       "      <td>30799</td>\n",
       "      <td>nan</td>\n",
       "      <td>88</td>\n",
       "      <td>0</td>\n",
       "      <td>nan</td>\n",
       "      <td>1</td>\n",
       "      <td>1.00000</td>\n",
       "    </tr>\n",
       "    <tr>\n",
       "      <th>3</th>\n",
       "      <td>35450295</td>\n",
       "      <td>220674</td>\n",
       "      <td>70363</td>\n",
       "      <td>33110</td>\n",
       "      <td>51395</td>\n",
       "      <td>1</td>\n",
       "      <td>1</td>\n",
       "      <td>1</td>\n",
       "      <td>4859</td>\n",
       "      <td>tutor</td>\n",
       "      <td>algebra</td>\n",
       "      <td>5948</td>\n",
       "      <td>11816</td>\n",
       "      <td>22</td>\n",
       "      <td>MasterySection</td>\n",
       "      <td>5948</td>\n",
       "      <td>1.00000</td>\n",
       "      <td>Box and Whisker</td>\n",
       "      <td>22763</td>\n",
       "      <td>73</td>\n",
       "      <td>0</td>\n",
       "      <td>3</td>\n",
       "      <td>4859</td>\n",
       "      <td>30059</td>\n",
       "      <td>nan</td>\n",
       "      <td>41</td>\n",
       "      <td>0</td>\n",
       "      <td>nan</td>\n",
       "      <td>2</td>\n",
       "      <td>2.00000</td>\n",
       "    </tr>\n",
       "    <tr>\n",
       "      <th>4</th>\n",
       "      <td>35450311</td>\n",
       "      <td>220674</td>\n",
       "      <td>70363</td>\n",
       "      <td>33196</td>\n",
       "      <td>51481</td>\n",
       "      <td>1</td>\n",
       "      <td>0</td>\n",
       "      <td>14</td>\n",
       "      <td>19813</td>\n",
       "      <td>tutor</td>\n",
       "      <td>algebra</td>\n",
       "      <td>5948</td>\n",
       "      <td>11816</td>\n",
       "      <td>22</td>\n",
       "      <td>MasterySection</td>\n",
       "      <td>5948</td>\n",
       "      <td>1.00000</td>\n",
       "      <td>Box and Whisker</td>\n",
       "      <td>22763</td>\n",
       "      <td>73</td>\n",
       "      <td>3</td>\n",
       "      <td>4</td>\n",
       "      <td>124564</td>\n",
       "      <td>30060</td>\n",
       "      <td>nan</td>\n",
       "      <td>65</td>\n",
       "      <td>0</td>\n",
       "      <td>0.00000</td>\n",
       "      <td>3</td>\n",
       "      <td>3.00000</td>\n",
       "    </tr>\n",
       "  </tbody>\n",
       "</table>\n",
       "</div>"
      ],
      "text/plain": [
       "   order_id  assignment_id  ...  opportunity  opportunity_original\n",
       "0  33022537         277618  ...            1               1.00000\n",
       "1  33022709         277618  ...            2               2.00000\n",
       "2  35450204         220674  ...            1               1.00000\n",
       "3  35450295         220674  ...            2               2.00000\n",
       "4  35450311         220674  ...            3               3.00000\n",
       "\n",
       "[5 rows x 30 columns]"
      ]
     },
     "execution_count": 5,
     "metadata": {
      "tags": []
     },
     "output_type": "execute_result"
    }
   ],
   "source": [
    "as_df = pd.read_csv('as.csv', encoding = 'latin', low_memory = False)\n",
    "print(as_df.columns)\n",
    "as_df.head(5)"
   ]
  },
  {
   "cell_type": "markdown",
   "metadata": {
    "id": "yK9SpoSTOCQ6"
   },
   "source": [
    "We can fit a simple BKT model with the `fit` method for the Model class. In this case, we will fit a BKT model to every skill in the Cognitive Tutor dataset separately. Note that when skill(s) are not specified, it trains a separate model on all skills by default.\n",
    "\n",
    "We can either specify a data path (location of a file) or the Pandas DataFrame containing the data."
   ]
  },
  {
   "cell_type": "code",
   "execution_count": null,
   "metadata": {
    "id": "wGs-WUcXqgJ4"
   },
   "outputs": [],
   "source": [
    "model.fit(data_path = 'ct.csv')"
   ]
  },
  {
   "cell_type": "markdown",
   "metadata": {
    "id": "t5UGv-MIQbxi"
   },
   "source": [
    "We can train on multiple skills specified by a list of skill names or a \n",
    "REGEX match for each skill using the `skills` parameter. We demonstrate the usage of that below. In this case, we fit on all strings containing fraction."
   ]
  },
  {
   "cell_type": "code",
   "execution_count": null,
   "metadata": {
    "colab": {
     "base_uri": "https://localhost:8080/"
    },
    "id": "WMv6ShtOQqu7",
    "outputId": "47e5c0a1-0cd9-482c-aa9f-65a62ebbe033"
   },
   "outputs": [
    {
     "name": "stdout",
     "output_type": "stream",
     "text": [
      "Fitted Skills:\n",
      "Plot non-terminating improper fraction\n",
      "Plot terminating proper fraction\n",
      "Calculate part in proportion with fractions\n",
      "Calculate total in proportion with fractions\n"
     ]
    }
   ],
   "source": [
    "model.fit(data_path = 'ct.csv', skills = \".*fraction.*\")\n",
    "print(\"Fitted Skills:\\n%s\" % '\\n'.join(model.coef_.keys()))"
   ]
  },
  {
   "cell_type": "markdown",
   "metadata": {
    "id": "03quuYvxOg_m"
   },
   "source": [
    "Evaluate on the trained skills for any test data located in a Pandas DataFrame or in a file. In this case, we will just use training data, so this will display the training error. Note that the default metric displayed is RMSE. pyBKT supports AUC, RMSE, and accuracy\n",
    "as metrics by default.\n",
    "\n",
    "However, you can define your own custom metric as well!"
   ]
  },
  {
   "cell_type": "code",
   "execution_count": null,
   "metadata": {
    "colab": {
     "base_uri": "https://localhost:8080/"
    },
    "id": "oWRr6FxErB6G",
    "outputId": "6006ffd3-1819-4827-aafa-85519c7c5bea"
   },
   "outputs": [
    {
     "name": "stdout",
     "output_type": "stream",
     "text": [
      "Training RMSE: 0.453669\n",
      "Training AUC: 0.707717\n"
     ]
    }
   ],
   "source": [
    "# Evaluate with the default RMSE then specify AUC.\n",
    "model.fit(data_path = 'ct.csv')\n",
    "training_rmse = model.evaluate(data = ct_df)\n",
    "training_auc = model.evaluate(data_path = \"ct.csv\", metric = 'auc')\n",
    "print(\"Training RMSE: %f\" % training_rmse)\n",
    "print(\"Training AUC: %f\" % training_auc)"
   ]
  },
  {
   "cell_type": "code",
   "execution_count": null,
   "metadata": {
    "colab": {
     "base_uri": "https://localhost:8080/"
    },
    "id": "A2K6avPwrMZ0",
    "outputId": "f3e72bcc-19bf-49fc-8adf-dc4e331646df"
   },
   "outputs": [
    {
     "name": "stdout",
     "output_type": "stream",
     "text": [
      "Training MAE: 0.412169\n"
     ]
    }
   ],
   "source": [
    "# We can even define our own metric!\n",
    "def mae(true_vals, pred_vals):\n",
    "  \"\"\" Calculates the mean absolute error. \"\"\"\n",
    "  return np.mean(np.abs(true_vals - pred_vals))\n",
    "\n",
    "training_mae = model.evaluate(data_path = 'ct.csv', metric = mae)\n",
    "print(\"Training MAE: %f\" % training_mae)"
   ]
  },
  {
   "cell_type": "markdown",
   "metadata": {
    "id": "h6q--qwhPtWW"
   },
   "source": [
    "### Model Prediction\n",
    "\n",
    "pyBKT can return predictions on a test set given a Pandas DataFrame or a file conaining test data. If pyBKT is asked for predictions on skills for which it has not trained a model, it will output a best effort guess of 0.5 for both the correct and state predictions.\n",
    "\n",
    "We will be using the training dataset again for testing purposes."
   ]
  },
  {
   "cell_type": "code",
   "execution_count": null,
   "metadata": {
    "colab": {
     "base_uri": "https://localhost:8080/",
     "height": 206
    },
    "id": "cEMt5Cmlrzmd",
    "outputId": "54a63961-8417-4cff-8f9f-7b6b0a121212"
   },
   "outputs": [
    {
     "data": {
      "text/html": [
       "<div>\n",
       "<style scoped>\n",
       "    .dataframe tbody tr th:only-of-type {\n",
       "        vertical-align: middle;\n",
       "    }\n",
       "\n",
       "    .dataframe tbody tr th {\n",
       "        vertical-align: top;\n",
       "    }\n",
       "\n",
       "    .dataframe thead th {\n",
       "        text-align: right;\n",
       "    }\n",
       "</style>\n",
       "<table border=\"1\" class=\"dataframe\">\n",
       "  <thead>\n",
       "    <tr style=\"text-align: right;\">\n",
       "      <th></th>\n",
       "      <th>Anon Student Id</th>\n",
       "      <th>KC(Default)</th>\n",
       "      <th>Correct First Attempt</th>\n",
       "      <th>correct_predictions</th>\n",
       "      <th>state_predictions</th>\n",
       "    </tr>\n",
       "  </thead>\n",
       "  <tbody>\n",
       "    <tr>\n",
       "      <th>773</th>\n",
       "      <td>0I891Gg</td>\n",
       "      <td>Plot non-terminating improper fraction</td>\n",
       "      <td>0</td>\n",
       "      <td>0.50369</td>\n",
       "      <td>0.27196</td>\n",
       "    </tr>\n",
       "    <tr>\n",
       "      <th>774</th>\n",
       "      <td>0I891Gg</td>\n",
       "      <td>Plot imperfect radical</td>\n",
       "      <td>0</td>\n",
       "      <td>0.50000</td>\n",
       "      <td>0.50000</td>\n",
       "    </tr>\n",
       "    <tr>\n",
       "      <th>775</th>\n",
       "      <td>0I891Gg</td>\n",
       "      <td>Plot terminating proper fraction</td>\n",
       "      <td>0</td>\n",
       "      <td>0.51960</td>\n",
       "      <td>0.42008</td>\n",
       "    </tr>\n",
       "    <tr>\n",
       "      <th>776</th>\n",
       "      <td>0I891Gg</td>\n",
       "      <td>Plot pi</td>\n",
       "      <td>1</td>\n",
       "      <td>0.50000</td>\n",
       "      <td>0.50000</td>\n",
       "    </tr>\n",
       "    <tr>\n",
       "      <th>777</th>\n",
       "      <td>0I891Gg</td>\n",
       "      <td>Plot terminating proper fraction</td>\n",
       "      <td>1</td>\n",
       "      <td>0.46185</td>\n",
       "      <td>0.58210</td>\n",
       "    </tr>\n",
       "  </tbody>\n",
       "</table>\n",
       "</div>"
      ],
      "text/plain": [
       "    Anon Student Id  ... state_predictions\n",
       "773         0I891Gg  ...           0.27196\n",
       "774         0I891Gg  ...           0.50000\n",
       "775         0I891Gg  ...           0.42008\n",
       "776         0I891Gg  ...           0.50000\n",
       "777         0I891Gg  ...           0.58210\n",
       "\n",
       "[5 rows x 5 columns]"
      ]
     },
     "execution_count": 10,
     "metadata": {
      "tags": []
     },
     "output_type": "execute_result"
    }
   ],
   "source": [
    "# Note again that the REGEX expression below trains BKT models on all\n",
    "# skills containing the word fraction!\n",
    "model.fit(data_path = 'ct.csv', skills = \".*fraction.*\")\n",
    "preds = model.predict(data_path = 'ct.csv')\n",
    "preds[['Anon Student Id', 'KC(Default)', 'Correct First Attempt', \n",
    "       'correct_predictions', 'state_predictions']].head(5)"
   ]
  },
  {
   "cell_type": "code",
   "execution_count": null,
   "metadata": {
    "colab": {
     "base_uri": "https://localhost:8080/"
    },
    "id": "UNINLedmRty2",
    "outputId": "fb1e6436-ecb1-47ab-80fd-984c93856ac9"
   },
   "outputs": [
    {
     "data": {
      "text/plain": [
       "array(['Plot non-terminating improper fraction',\n",
       "       'Plot terminating proper fraction',\n",
       "       'Calculate part in proportion with fractions',\n",
       "       'Calculate total in proportion with fractions'], dtype=object)"
      ]
     },
     "execution_count": 11,
     "metadata": {
      "tags": []
     },
     "output_type": "execute_result"
    }
   ],
   "source": [
    "# Let's sanity check that we have only trained on the skills that we \n",
    "# specified in the call to fit! Note that while it is possible for a \n",
    "# BKT prediction to be 0.5 exactly, it is unlikely.\n",
    "preds[preds['correct_predictions'] != 0.5]['KC(Default)'].unique()"
   ]
  },
  {
   "cell_type": "code",
   "execution_count": null,
   "metadata": {
    "colab": {
     "base_uri": "https://localhost:8080/"
    },
    "id": "HMYfbZIOSHmw",
    "outputId": "a72c5bfa-87cd-47d7-c78f-408ed7830828"
   },
   "outputs": [
    {
     "data": {
      "text/plain": [
       "0.44053610211887206"
      ]
     },
     "execution_count": 12,
     "metadata": {
      "tags": []
     },
     "output_type": "execute_result"
    }
   ],
   "source": [
    "# Let's manually calculate the RMSE of the correct predictions \n",
    "# and ensure that it is the same as a call to the evaluate function.\n",
    "def rmse(y_true, y_pred):\n",
    "  \"\"\" Returns the root-mean squared error. \"\"\"\n",
    "  return np.sqrt(np.mean((y_true - y_pred) ** 2))\n",
    "\n",
    "# Filter out the data for which we did not train!\n",
    "preds_filtered = preds[preds['KC(Default)'].str.contains('fraction')]\n",
    "manual_training_rmse = rmse(preds_filtered['Correct First Attempt'],\n",
    "                            preds_filtered['correct_predictions'])\n",
    "manual_training_rmse"
   ]
  },
  {
   "cell_type": "code",
   "execution_count": null,
   "metadata": {
    "colab": {
     "base_uri": "https://localhost:8080/"
    },
    "id": "QQuyQWH0SmBu",
    "outputId": "9d4195ec-153b-46ba-f5ca-8341ea0629cc"
   },
   "outputs": [
    {
     "data": {
      "text/plain": [
       "0.4405361021188686"
      ]
     },
     "execution_count": 13,
     "metadata": {
      "tags": []
     },
     "output_type": "execute_result"
    }
   ],
   "source": [
    "# We use model.evaluate to accomplish the same thing!\n",
    "# You should receive an RMSE that is identical to the above\n",
    "# manually calculated RMSE.\n",
    "model.evaluate(data = ct_df)"
   ]
  },
  {
   "cell_type": "markdown",
   "metadata": {
    "id": "2RTLXJzSTdmq"
   },
   "source": [
    "### Model Cross-Validation and Variants\n",
    "\n",
    "Crossvalidation is offered as a blackbox function similar to a combination of fit and evaluate that accepts a particular number of folds, a seed, and a metric (either one of the 3 provided that are 'rmse', 'auc' or 'accuracy' or a custom Python function taking 2 arguments). Similar arguments for the model types, data path/data, and skill names are accepted as with the fit function."
   ]
  },
  {
   "cell_type": "code",
   "execution_count": null,
   "metadata": {
    "colab": {
     "base_uri": "https://localhost:8080/",
     "height": 457
    },
    "id": "fLbg2OSsrdu8",
    "outputId": "e0096353-ad71-47ca-c04d-19aa3ee977aa"
   },
   "outputs": [
    {
     "data": {
      "text/html": [
       "<div>\n",
       "<style scoped>\n",
       "    .dataframe tbody tr th:only-of-type {\n",
       "        vertical-align: middle;\n",
       "    }\n",
       "\n",
       "    .dataframe tbody tr th {\n",
       "        vertical-align: top;\n",
       "    }\n",
       "\n",
       "    .dataframe thead th {\n",
       "        text-align: right;\n",
       "    }\n",
       "</style>\n",
       "<table border=\"1\" class=\"dataframe\">\n",
       "  <thead>\n",
       "    <tr style=\"text-align: right;\">\n",
       "      <th></th>\n",
       "      <th>rmse</th>\n",
       "    </tr>\n",
       "    <tr>\n",
       "      <th>skill</th>\n",
       "      <th></th>\n",
       "    </tr>\n",
       "  </thead>\n",
       "  <tbody>\n",
       "    <tr>\n",
       "      <th>Plot non-terminating improper fraction</th>\n",
       "      <td>0.48244</td>\n",
       "    </tr>\n",
       "    <tr>\n",
       "      <th>Plot imperfect radical</th>\n",
       "      <td>0.43790</td>\n",
       "    </tr>\n",
       "    <tr>\n",
       "      <th>Plot terminating proper fraction</th>\n",
       "      <td>0.49757</td>\n",
       "    </tr>\n",
       "    <tr>\n",
       "      <th>Plot pi</th>\n",
       "      <td>0.46189</td>\n",
       "    </tr>\n",
       "    <tr>\n",
       "      <th>Plot whole number</th>\n",
       "      <td>0.28921</td>\n",
       "    </tr>\n",
       "    <tr>\n",
       "      <th>Plot decimal - thousandths</th>\n",
       "      <td>0.47432</td>\n",
       "    </tr>\n",
       "    <tr>\n",
       "      <th>Calculate unit rate</th>\n",
       "      <td>0.48267</td>\n",
       "    </tr>\n",
       "    <tr>\n",
       "      <th>Calculate part in proportion with fractions</th>\n",
       "      <td>0.42833</td>\n",
       "    </tr>\n",
       "    <tr>\n",
       "      <th>Calculate total in proportion with fractions</th>\n",
       "      <td>0.42444</td>\n",
       "    </tr>\n",
       "    <tr>\n",
       "      <th>Finding the intersection, Mixed</th>\n",
       "      <td>0.50199</td>\n",
       "    </tr>\n",
       "    <tr>\n",
       "      <th>Finding the intersection, GLF</th>\n",
       "      <td>0.48966</td>\n",
       "    </tr>\n",
       "    <tr>\n",
       "      <th>Finding the intersection, SIF</th>\n",
       "      <td>0.48941</td>\n",
       "    </tr>\n",
       "  </tbody>\n",
       "</table>\n",
       "</div>"
      ],
      "text/plain": [
       "                                                rmse\n",
       "skill                                               \n",
       "Plot non-terminating improper fraction       0.48244\n",
       "Plot imperfect radical                       0.43790\n",
       "Plot terminating proper fraction             0.49757\n",
       "Plot pi                                      0.46189\n",
       "Plot whole number                            0.28921\n",
       "Plot decimal - thousandths                   0.47432\n",
       "Calculate unit rate                          0.48267\n",
       "Calculate part in proportion with fractions  0.42833\n",
       "Calculate total in proportion with fractions 0.42444\n",
       "Finding the intersection, Mixed              0.50199\n",
       "Finding the intersection, GLF                0.48966\n",
       "Finding the intersection, SIF                0.48941"
      ]
     },
     "execution_count": 14,
     "metadata": {
      "tags": []
     },
     "output_type": "execute_result"
    }
   ],
   "source": [
    "# Note that folds is an optional parameter as well as the model \n",
    "# variant, seed, and crossvalidated metric.\n",
    "# By default, we crossvalidate on all skills separately.\n",
    "model.crossvalidate(data_path = 'ct.csv', folds = 5)"
   ]
  },
  {
   "cell_type": "markdown",
   "metadata": {
    "id": "quergqYRUWCn"
   },
   "source": [
    "We explore all the model variants offered within pyBKT for one particular skill (Calculations with Similar Figures) using cross-validation since it provides a much better evaluation of true model performance during test time than the training loss!"
   ]
  },
  {
   "cell_type": "code",
   "execution_count": null,
   "metadata": {
    "colab": {
     "base_uri": "https://localhost:8080/",
     "height": 112
    },
    "id": "J74W6yFqsmk1",
    "outputId": "5e7031e3-9edd-4ea2-f5d8-30cdcb143e21"
   },
   "outputs": [
    {
     "data": {
      "text/html": [
       "<div>\n",
       "<style scoped>\n",
       "    .dataframe tbody tr th:only-of-type {\n",
       "        vertical-align: middle;\n",
       "    }\n",
       "\n",
       "    .dataframe tbody tr th {\n",
       "        vertical-align: top;\n",
       "    }\n",
       "\n",
       "    .dataframe thead th {\n",
       "        text-align: right;\n",
       "    }\n",
       "</style>\n",
       "<table border=\"1\" class=\"dataframe\">\n",
       "  <thead>\n",
       "    <tr style=\"text-align: right;\">\n",
       "      <th></th>\n",
       "      <th>auc</th>\n",
       "    </tr>\n",
       "    <tr>\n",
       "      <th>skill</th>\n",
       "      <th></th>\n",
       "    </tr>\n",
       "  </thead>\n",
       "  <tbody>\n",
       "    <tr>\n",
       "      <th>Calculations with Similar Figures</th>\n",
       "      <td>0.59316</td>\n",
       "    </tr>\n",
       "  </tbody>\n",
       "</table>\n",
       "</div>"
      ],
      "text/plain": [
       "                                      auc\n",
       "skill                                    \n",
       "Calculations with Similar Figures 0.59316"
      ]
     },
     "execution_count": 15,
     "metadata": {
      "tags": []
     },
     "output_type": "execute_result"
    }
   ],
   "source": [
    "# Try this with a different skill or metric by replacing the lines below.\n",
    "skill = 'Calculations with Similar Figures'\n",
    "metric = 'auc'\n",
    "\n",
    "simple_cv = model.crossvalidate(data = as_df, skills = skill, \n",
    "                                metric = metric)\n",
    "simple_cv"
   ]
  },
  {
   "cell_type": "markdown",
   "metadata": {
    "id": "Or07tJTHUyws"
   },
   "source": [
    "The multigs model fits a different guess/slip rate for each class. Note that by default, for the CognitiveTutor data, the guess and slip classes will be specified by the template_id. pyBKT will be able to infer the column names for AS/CT type datasets, but you can specify a custom column mapping (discussed in later cells)."
   ]
  },
  {
   "cell_type": "code",
   "execution_count": null,
   "metadata": {
    "colab": {
     "base_uri": "https://localhost:8080/",
     "height": 112
    },
    "id": "6Kl-ylC5VhqR",
    "outputId": "8a4d104b-ae16-45f9-d189-972a96e8bf43"
   },
   "outputs": [
    {
     "data": {
      "text/html": [
       "<div>\n",
       "<style scoped>\n",
       "    .dataframe tbody tr th:only-of-type {\n",
       "        vertical-align: middle;\n",
       "    }\n",
       "\n",
       "    .dataframe tbody tr th {\n",
       "        vertical-align: top;\n",
       "    }\n",
       "\n",
       "    .dataframe thead th {\n",
       "        text-align: right;\n",
       "    }\n",
       "</style>\n",
       "<table border=\"1\" class=\"dataframe\">\n",
       "  <thead>\n",
       "    <tr style=\"text-align: right;\">\n",
       "      <th></th>\n",
       "      <th>auc</th>\n",
       "    </tr>\n",
       "    <tr>\n",
       "      <th>skill</th>\n",
       "      <th></th>\n",
       "    </tr>\n",
       "  </thead>\n",
       "  <tbody>\n",
       "    <tr>\n",
       "      <th>Calculations with Similar Figures</th>\n",
       "      <td>0.67551</td>\n",
       "    </tr>\n",
       "  </tbody>\n",
       "</table>\n",
       "</div>"
      ],
      "text/plain": [
       "                                      auc\n",
       "skill                                    \n",
       "Calculations with Similar Figures 0.67551"
      ]
     },
     "execution_count": 16,
     "metadata": {
      "tags": []
     },
     "output_type": "execute_result"
    }
   ],
   "source": [
    "multigs_cv = model.crossvalidate(data_path = 'as.csv', skills = skill,\n",
    "                                 multigs = True, metric = metric)\n",
    "multigs_cv"
   ]
  },
  {
   "cell_type": "markdown",
   "metadata": {
    "id": "OJpjUlpdVHXc"
   },
   "source": [
    "The multilearn model fits a different learn rate (and forget rate if enabled) rate for each class specified. Note that the learn classes are specified by the template_id column by default for the Assistments dataset."
   ]
  },
  {
   "cell_type": "code",
   "execution_count": null,
   "metadata": {
    "colab": {
     "base_uri": "https://localhost:8080/",
     "height": 112
    },
    "id": "4VvZiCmLVliZ",
    "outputId": "b89b52bb-0240-4f16-db8b-ceff4ed7cb92"
   },
   "outputs": [
    {
     "data": {
      "text/html": [
       "<div>\n",
       "<style scoped>\n",
       "    .dataframe tbody tr th:only-of-type {\n",
       "        vertical-align: middle;\n",
       "    }\n",
       "\n",
       "    .dataframe tbody tr th {\n",
       "        vertical-align: top;\n",
       "    }\n",
       "\n",
       "    .dataframe thead th {\n",
       "        text-align: right;\n",
       "    }\n",
       "</style>\n",
       "<table border=\"1\" class=\"dataframe\">\n",
       "  <thead>\n",
       "    <tr style=\"text-align: right;\">\n",
       "      <th></th>\n",
       "      <th>auc</th>\n",
       "    </tr>\n",
       "    <tr>\n",
       "      <th>skill</th>\n",
       "      <th></th>\n",
       "    </tr>\n",
       "  </thead>\n",
       "  <tbody>\n",
       "    <tr>\n",
       "      <th>Calculations with Similar Figures</th>\n",
       "      <td>0.65645</td>\n",
       "    </tr>\n",
       "  </tbody>\n",
       "</table>\n",
       "</div>"
      ],
      "text/plain": [
       "                                      auc\n",
       "skill                                    \n",
       "Calculations with Similar Figures 0.65645"
      ]
     },
     "execution_count": 17,
     "metadata": {
      "tags": []
     },
     "output_type": "execute_result"
    }
   ],
   "source": [
    "multilearn_cv = model.crossvalidate(data_path = 'as.csv', skills = skill,\n",
    "                                    multilearn = True, forgets = True, \n",
    "                                    metric = metric)\n",
    "multilearn_cv"
   ]
  },
  {
   "cell_type": "markdown",
   "metadata": {
    "id": "M3KtHwOgVj3Y"
   },
   "source": [
    "The multilearn model fits a different learn (and forget if enabled) rate for each class, and the multipair model generates a different learn rate based on each consecutive pair of classes. "
   ]
  },
  {
   "cell_type": "code",
   "execution_count": null,
   "metadata": {
    "colab": {
     "base_uri": "https://localhost:8080/",
     "height": 143
    },
    "id": "bhyg7-ZfVohB",
    "outputId": "f6d5bc07-d850-420c-92d8-1241d7aeef91"
   },
   "outputs": [
    {
     "data": {
      "text/html": [
       "<div>\n",
       "<style scoped>\n",
       "    .dataframe tbody tr th:only-of-type {\n",
       "        vertical-align: middle;\n",
       "    }\n",
       "\n",
       "    .dataframe tbody tr th {\n",
       "        vertical-align: top;\n",
       "    }\n",
       "\n",
       "    .dataframe thead th {\n",
       "        text-align: right;\n",
       "    }\n",
       "</style>\n",
       "<table border=\"1\" class=\"dataframe\">\n",
       "  <thead>\n",
       "    <tr style=\"text-align: right;\">\n",
       "      <th></th>\n",
       "      <th>auc</th>\n",
       "    </tr>\n",
       "    <tr>\n",
       "      <th>skill</th>\n",
       "      <th></th>\n",
       "    </tr>\n",
       "  </thead>\n",
       "  <tbody>\n",
       "    <tr>\n",
       "      <th>Calculations with Similar Figures</th>\n",
       "      <td>0.59397</td>\n",
       "    </tr>\n",
       "    <tr>\n",
       "      <th>Calculations with Similar Figures</th>\n",
       "      <td>0.56449</td>\n",
       "    </tr>\n",
       "  </tbody>\n",
       "</table>\n",
       "</div>"
      ],
      "text/plain": [
       "                                      auc\n",
       "skill                                    \n",
       "Calculations with Similar Figures 0.59397\n",
       "Calculations with Similar Figures 0.56449"
      ]
     },
     "execution_count": 18,
     "metadata": {
      "tags": []
     },
     "output_type": "execute_result"
    }
   ],
   "source": [
    "# The multiprior model generates different priors based on the first \n",
    "# response of each student.\n",
    "multiprior_cv = model.crossvalidate(data_path = 'as.csv', skills = skill,\n",
    "                                    multiprior = True, metric = metric,\n",
    "                                    folds = 3)\n",
    "multipair_cv = model.crossvalidate(data_path = 'as.csv', skills = skill,\n",
    "                                   multipair = True, metric = metric,\n",
    "                                   folds = 3)\n",
    "pd.concat([multiprior_cv, multipair_cv], axis = 0)"
   ]
  },
  {
   "cell_type": "markdown",
   "metadata": {
    "id": "J8afYPYSWAZy"
   },
   "source": [
    "The best performing models are typically those that combine several useful variants such as the multilearn and multiguess/slip class variants. We will enable the forgets parameter as well. Try testing with other skills and see whether this holds true for the general case."
   ]
  },
  {
   "cell_type": "code",
   "execution_count": null,
   "metadata": {
    "colab": {
     "base_uri": "https://localhost:8080/",
     "height": 112
    },
    "id": "4ivl4apsVtB3",
    "outputId": "b1b4a3c1-ee37-4295-e3b2-55980b52e7ec"
   },
   "outputs": [
    {
     "data": {
      "text/html": [
       "<div>\n",
       "<style scoped>\n",
       "    .dataframe tbody tr th:only-of-type {\n",
       "        vertical-align: middle;\n",
       "    }\n",
       "\n",
       "    .dataframe tbody tr th {\n",
       "        vertical-align: top;\n",
       "    }\n",
       "\n",
       "    .dataframe thead th {\n",
       "        text-align: right;\n",
       "    }\n",
       "</style>\n",
       "<table border=\"1\" class=\"dataframe\">\n",
       "  <thead>\n",
       "    <tr style=\"text-align: right;\">\n",
       "      <th></th>\n",
       "      <th>auc</th>\n",
       "    </tr>\n",
       "    <tr>\n",
       "      <th>skill</th>\n",
       "      <th></th>\n",
       "    </tr>\n",
       "  </thead>\n",
       "  <tbody>\n",
       "    <tr>\n",
       "      <th>Calculations with Similar Figures</th>\n",
       "      <td>0.69882</td>\n",
       "    </tr>\n",
       "  </tbody>\n",
       "</table>\n",
       "</div>"
      ],
      "text/plain": [
       "                                      auc\n",
       "skill                                    \n",
       "Calculations with Similar Figures 0.69882"
      ]
     },
     "execution_count": 19,
     "metadata": {
      "tags": []
     },
     "output_type": "execute_result"
    }
   ],
   "source": [
    "# We combine the fifth parameter, forgets, with the previous multilearn\n",
    "# and multiguess/slip models for a combo model.\n",
    "combo_cv = model.crossvalidate(data_path = 'as.csv', skills = skill,\n",
    "                               forgets = True, multilearn = True, \n",
    "                               multigs = True, metric = metric)\n",
    "combo_cv"
   ]
  },
  {
   "cell_type": "markdown",
   "metadata": {
    "id": "qkiQ1CbrWbrQ"
   },
   "source": [
    "### Model Parameter Initialization and Visualization\n",
    "\n",
    "We can initialize any of the model parameters for a particular skill's BKT model before training using `model.coef_`. Similar to SciKit Learn, `model.coef_` is a way to initialize model parameters and view them after they are fitted.\n"
   ]
  },
  {
   "cell_type": "code",
   "execution_count": null,
   "metadata": {
    "colab": {
     "base_uri": "https://localhost:8080/"
    },
    "id": "2Ncdi9_mwnvg",
    "outputId": "56540224-0eb0-4508-a0e0-149c11ced71d"
   },
   "outputs": [
    {
     "data": {
      "text/plain": [
       "{'Box and Whisker': {'prior': 1e-40}}"
      ]
     },
     "execution_count": 20,
     "metadata": {
      "tags": []
     },
     "output_type": "execute_result"
    }
   ],
   "source": [
    "# We initialize the prior parameter to 1e-3 for the Box and Whisker \n",
    "# skill.\n",
    "#\n",
    "# Note that if we are training a KT-IDEM (multiguess/slip) model,\n",
    "# we need to have len(guesses) == len(slips) == # of G/S classes.\n",
    "# Similarly, for multilearn models, you need len(forgets) == len(guesses)\n",
    "# corresponding to the number of learn classes.\n",
    "skill = 'Box and Whisker'\n",
    "\n",
    "model.coef_ = {skill: {'prior': 1e-40}}\n",
    "model.coef_"
   ]
  },
  {
   "cell_type": "code",
   "execution_count": null,
   "metadata": {
    "colab": {
     "base_uri": "https://localhost:8080/"
    },
    "id": "F_loFRlsyL7q",
    "outputId": "2421df0f-352f-4bc6-9266-3c44448dd51d"
   },
   "outputs": [
    {
     "name": "stdout",
     "output_type": "stream",
     "text": [
      "Fitted Prior Value: 0.000000\n",
      "Training AUC: 0.677932\n"
     ]
    }
   ],
   "source": [
    "# Train the model with the pre-initialized parameters.\n",
    "model.fit(data_path = 'as.csv', skills = skill, multigs = True)\n",
    "low_prior_auc = model.evaluate(data_path = 'as.csv', metric = 'auc')\n",
    "\n",
    "# We can obtain the prior value by indexing into the model.coef_\n",
    "# dictionary with the skill and parameter names. \n",
    "print(\"Fitted Prior Value: %f\" % model.coef_[skill]['prior'])\n",
    "print(\"Training AUC: %f\" % low_prior_auc)"
   ]
  },
  {
   "cell_type": "code",
   "execution_count": null,
   "metadata": {
    "colab": {
     "base_uri": "https://localhost:8080/"
    },
    "id": "xdGClHCLZuyr",
    "outputId": "8f8800e2-ecad-4f75-a8ee-b55a07e4b3f8"
   },
   "outputs": [
    {
     "name": "stdout",
     "output_type": "stream",
     "text": [
      "Fitted Prior Value: 0.682761\n",
      "Training AUC: 0.702290\n"
     ]
    }
   ],
   "source": [
    "# Initialize the prior to be more reasonable.\n",
    "model.coef_ = {skill: {'prior': 0.5}}\n",
    "model.fit(data_path = 'as.csv', skills = skill, multigs = True)\n",
    "normal_prior_auc = model.evaluate(data_path = 'as.csv', metric = 'auc')\n",
    "\n",
    "# Print the fitted prior value and RMSE.\n",
    "print(\"Fitted Prior Value: %f\" % model.coef_[skill]['prior'])\n",
    "print(\"Training AUC: %f\" % normal_prior_auc)"
   ]
  },
  {
   "cell_type": "markdown",
   "metadata": {
    "id": "M7LEkoJXbQNf"
   },
   "source": [
    "We can visualize the parameters of our fitted model in a Pandas DataFrame once it has been fit. We can easily plot the learn, forget, guess, and slip rates for multilearn/forget and multiguess/slip models. "
   ]
  },
  {
   "cell_type": "code",
   "execution_count": null,
   "metadata": {
    "colab": {
     "base_uri": "https://localhost:8080/",
     "height": 865
    },
    "id": "17EUFVRSbigb",
    "outputId": "834aa3de-67c0-4ad6-efd1-4a45d87b9769"
   },
   "outputs": [
    {
     "data": {
      "text/html": [
       "<div>\n",
       "<style scoped>\n",
       "    .dataframe tbody tr th:only-of-type {\n",
       "        vertical-align: middle;\n",
       "    }\n",
       "\n",
       "    .dataframe tbody tr th {\n",
       "        vertical-align: top;\n",
       "    }\n",
       "\n",
       "    .dataframe thead th {\n",
       "        text-align: right;\n",
       "    }\n",
       "</style>\n",
       "<table border=\"1\" class=\"dataframe\">\n",
       "  <thead>\n",
       "    <tr style=\"text-align: right;\">\n",
       "      <th></th>\n",
       "      <th></th>\n",
       "      <th></th>\n",
       "      <th>value</th>\n",
       "    </tr>\n",
       "    <tr>\n",
       "      <th>skill</th>\n",
       "      <th>param</th>\n",
       "      <th>class</th>\n",
       "      <th></th>\n",
       "    </tr>\n",
       "  </thead>\n",
       "  <tbody>\n",
       "    <tr>\n",
       "      <th rowspan=\"25\" valign=\"top\">Box and Whisker</th>\n",
       "      <th>prior</th>\n",
       "      <th>default</th>\n",
       "      <td>0.65686</td>\n",
       "    </tr>\n",
       "    <tr>\n",
       "      <th rowspan=\"6\" valign=\"top\">learns</th>\n",
       "      <th>30059</th>\n",
       "      <td>0.34371</td>\n",
       "    </tr>\n",
       "    <tr>\n",
       "      <th>30060</th>\n",
       "      <td>0.10411</td>\n",
       "    </tr>\n",
       "    <tr>\n",
       "      <th>30799</th>\n",
       "      <td>0.36289</td>\n",
       "    </tr>\n",
       "    <tr>\n",
       "      <th>63446</th>\n",
       "      <td>0.00036</td>\n",
       "    </tr>\n",
       "    <tr>\n",
       "      <th>63447</th>\n",
       "      <td>0.21070</td>\n",
       "    </tr>\n",
       "    <tr>\n",
       "      <th>63448</th>\n",
       "      <td>0.15065</td>\n",
       "    </tr>\n",
       "    <tr>\n",
       "      <th rowspan=\"6\" valign=\"top\">guesses</th>\n",
       "      <th>30059</th>\n",
       "      <td>0.38495</td>\n",
       "    </tr>\n",
       "    <tr>\n",
       "      <th>30060</th>\n",
       "      <td>0.51516</td>\n",
       "    </tr>\n",
       "    <tr>\n",
       "      <th>30799</th>\n",
       "      <td>0.00342</td>\n",
       "    </tr>\n",
       "    <tr>\n",
       "      <th>63446</th>\n",
       "      <td>0.50601</td>\n",
       "    </tr>\n",
       "    <tr>\n",
       "      <th>63447</th>\n",
       "      <td>0.00000</td>\n",
       "    </tr>\n",
       "    <tr>\n",
       "      <th>63448</th>\n",
       "      <td>0.52579</td>\n",
       "    </tr>\n",
       "    <tr>\n",
       "      <th rowspan=\"6\" valign=\"top\">slips</th>\n",
       "      <th>30059</th>\n",
       "      <td>0.06954</td>\n",
       "    </tr>\n",
       "    <tr>\n",
       "      <th>30060</th>\n",
       "      <td>0.27683</td>\n",
       "    </tr>\n",
       "    <tr>\n",
       "      <th>30799</th>\n",
       "      <td>0.06980</td>\n",
       "    </tr>\n",
       "    <tr>\n",
       "      <th>63446</th>\n",
       "      <td>0.18130</td>\n",
       "    </tr>\n",
       "    <tr>\n",
       "      <th>63447</th>\n",
       "      <td>0.13671</td>\n",
       "    </tr>\n",
       "    <tr>\n",
       "      <th>63448</th>\n",
       "      <td>0.14389</td>\n",
       "    </tr>\n",
       "    <tr>\n",
       "      <th rowspan=\"6\" valign=\"top\">forgets</th>\n",
       "      <th>30059</th>\n",
       "      <td>0.00000</td>\n",
       "    </tr>\n",
       "    <tr>\n",
       "      <th>30060</th>\n",
       "      <td>0.03562</td>\n",
       "    </tr>\n",
       "    <tr>\n",
       "      <th>30799</th>\n",
       "      <td>0.00555</td>\n",
       "    </tr>\n",
       "    <tr>\n",
       "      <th>63446</th>\n",
       "      <td>0.01801</td>\n",
       "    </tr>\n",
       "    <tr>\n",
       "      <th>63447</th>\n",
       "      <td>0.05405</td>\n",
       "    </tr>\n",
       "    <tr>\n",
       "      <th>63448</th>\n",
       "      <td>0.00000</td>\n",
       "    </tr>\n",
       "  </tbody>\n",
       "</table>\n",
       "</div>"
      ],
      "text/plain": [
       "                                  value\n",
       "skill           param   class          \n",
       "Box and Whisker prior   default 0.65686\n",
       "                learns  30059   0.34371\n",
       "                        30060   0.10411\n",
       "                        30799   0.36289\n",
       "                        63446   0.00036\n",
       "                        63447   0.21070\n",
       "                        63448   0.15065\n",
       "                guesses 30059   0.38495\n",
       "                        30060   0.51516\n",
       "                        30799   0.00342\n",
       "                        63446   0.50601\n",
       "                        63447   0.00000\n",
       "                        63448   0.52579\n",
       "                slips   30059   0.06954\n",
       "                        30060   0.27683\n",
       "                        30799   0.06980\n",
       "                        63446   0.18130\n",
       "                        63447   0.13671\n",
       "                        63448   0.14389\n",
       "                forgets 30059   0.00000\n",
       "                        30060   0.03562\n",
       "                        30799   0.00555\n",
       "                        63446   0.01801\n",
       "                        63447   0.05405\n",
       "                        63448   0.00000"
      ]
     },
     "execution_count": 23,
     "metadata": {
      "tags": []
     },
     "output_type": "execute_result"
    }
   ],
   "source": [
    "model.fit(data_path = 'as.csv', skills = skill,\n",
    "          forgets = True, multilearn = True, \n",
    "          multigs = True)\n",
    "model.params()"
   ]
  },
  {
   "cell_type": "code",
   "execution_count": null,
   "metadata": {
    "colab": {
     "base_uri": "https://localhost:8080/",
     "height": 404
    },
    "id": "U2h7-Z1ob-w-",
    "outputId": "46c2ce46-7fd0-475e-b2a9-a6ab0ca263ab"
   },
   "outputs": [
    {
     "data": {
      "image/png": "[encoded data removed]",
      "text/plain": [
       "<Figure size 864x432 with 1 Axes>"
      ]
     },
     "metadata": {
      "needs_background": "light",
      "tags": []
     },
     "output_type": "display_data"
    }
   ],
   "source": [
    "# We will get warnings for using indexing past lexsort. That's fine,\n",
    "# and we will disable these warnings.\n",
    "import warnings\n",
    "warnings.simplefilter(action='ignore')\n",
    "\n",
    "# Plot the learns, forgets, slips and guesses for each of the classes.\n",
    "params = model.params()\n",
    "plt.figure(figsize = (12, 6))\n",
    "plt.plot(params.loc[(skill, 'guesses')], label = 'Guesses')\n",
    "plt.plot(params.loc[(skill, 'learns')], label = 'Learns')\n",
    "plt.plot(params.loc[(skill, 'forgets')], label = 'Forgets')\n",
    "plt.plot(params.loc[(skill, 'slips')], label = 'Slips')\n",
    "plt.xlabel('Template ID')\n",
    "plt.ylabel('Rate')\n",
    "plt.title('BKT Parameters per Template ID Class')\n",
    "plt.legend();"
   ]
  },
  {
   "cell_type": "markdown",
   "metadata": {
    "id": "KjKaP64rdzyy"
   },
   "source": [
    "### Extended Data and Model Configuration\n",
    "\n",
    "Models can get excessively long, whether it's due to the number of model variants used, the number of folds/seed/metric for crossvalidation, data path length, etc.\n",
    "\n",
    "We create a configuration dictionary that describes all the parameters we will pass in. Note that this is not a pyBKT feature, but actually just a Python feature that not many realize is very powerful!"
   ]
  },
  {
   "cell_type": "code",
   "execution_count": null,
   "metadata": {
    "colab": {
     "base_uri": "https://localhost:8080/",
     "height": 143
    },
    "id": "5zN9mVmAzHcH",
    "outputId": "50e52d3a-0943-4413-f1b9-af3c6ee7dcd1"
   },
   "outputs": [
    {
     "data": {
      "text/html": [
       "<div>\n",
       "<style scoped>\n",
       "    .dataframe tbody tr th:only-of-type {\n",
       "        vertical-align: middle;\n",
       "    }\n",
       "\n",
       "    .dataframe tbody tr th {\n",
       "        vertical-align: top;\n",
       "    }\n",
       "\n",
       "    .dataframe thead th {\n",
       "        text-align: right;\n",
       "    }\n",
       "</style>\n",
       "<table border=\"1\" class=\"dataframe\">\n",
       "  <thead>\n",
       "    <tr style=\"text-align: right;\">\n",
       "      <th></th>\n",
       "      <th>accuracy</th>\n",
       "    </tr>\n",
       "    <tr>\n",
       "      <th>skill</th>\n",
       "      <th></th>\n",
       "    </tr>\n",
       "  </thead>\n",
       "  <tbody>\n",
       "    <tr>\n",
       "      <th>Circle Graph</th>\n",
       "      <td>0.68486</td>\n",
       "    </tr>\n",
       "    <tr>\n",
       "      <th>Box and Whisker</th>\n",
       "      <td>0.76262</td>\n",
       "    </tr>\n",
       "  </tbody>\n",
       "</table>\n",
       "</div>"
      ],
      "text/plain": [
       "                 accuracy\n",
       "skill                    \n",
       "Circle Graph      0.68486\n",
       "Box and Whisker   0.76262"
      ]
     },
     "execution_count": 25,
     "metadata": {
      "tags": []
     },
     "output_type": "execute_result"
    }
   ],
   "source": [
    "config = {'multigs': True,\n",
    "          'multilearn': True,\n",
    "          'skills': ['Box and Whisker', 'Circle Graph'],\n",
    "          'forgets': True,\n",
    "          'metric': 'accuracy',\n",
    "          'folds': 4,\n",
    "          'seed': 42 * 42}\n",
    "model.crossvalidate(data_path = 'as.csv', **config)"
   ]
  },
  {
   "cell_type": "markdown",
   "metadata": {
    "id": "8-jO3q1DeoIS"
   },
   "source": [
    "For other non-Assistments/CogTutor style datasets, we will need to specify the\n",
    "columns corresponding to each required column (i.e. the user ID, correct/incorrect). This is because pyBKT only supports the automatic inference of column names for the AS/CT datasets.\n",
    "\n",
    "For that, we use a defaults dictionary or specify parameters for each model variant."
   ]
  },
  {
   "cell_type": "code",
   "execution_count": null,
   "metadata": {
    "colab": {
     "base_uri": "https://localhost:8080/"
    },
    "id": "_gSIMrsEGKFK",
    "outputId": "4963416a-3131-4989-e845-3219e627049c"
   },
   "outputs": [
    {
     "data": {
      "text/plain": [
       "{'correct': 'custom_answer',\n",
       " 'multigs': 'custom_gs_classes',\n",
       " 'order_id': 'custom_order',\n",
       " 'skill_name': 'custom_skill'}"
      ]
     },
     "execution_count": 26,
     "metadata": {
      "tags": []
     },
     "output_type": "execute_result"
    }
   ],
   "source": [
    "# Note that this means that the order_id specified by the column named\n",
    "# custom_order in our custom dataset, the skill_name is specified by the \n",
    "# custom_skill column in our custom dataset, and so on.\n",
    "defaults = {'order_id': 'custom_order', \n",
    "            'skill_name': 'custom_skill', \n",
    "            'correct': 'custom_answer'}\n",
    "\n",
    "# This defaults dictionary can also contain columns specifying\n",
    "# what columns correspond to the desired guess/slip classes, etc.\n",
    "defaults['multigs'] = 'custom_gs_classes'\n",
    "\n",
    "# Our final column mapping is:\n",
    "defaults"
   ]
  },
  {
   "cell_type": "code",
   "execution_count": null,
   "metadata": {
    "colab": {
     "base_uri": "https://localhost:8080/",
     "height": 206
    },
    "id": "329sl4izH9RE",
    "outputId": "e00516c8-fc67-4c06-e7ac-6527e9e097d6"
   },
   "outputs": [
    {
     "data": {
      "text/html": [
       "<div>\n",
       "<style scoped>\n",
       "    .dataframe tbody tr th:only-of-type {\n",
       "        vertical-align: middle;\n",
       "    }\n",
       "\n",
       "    .dataframe tbody tr th {\n",
       "        vertical-align: top;\n",
       "    }\n",
       "\n",
       "    .dataframe thead th {\n",
       "        text-align: right;\n",
       "    }\n",
       "</style>\n",
       "<table border=\"1\" class=\"dataframe\">\n",
       "  <thead>\n",
       "    <tr style=\"text-align: right;\">\n",
       "      <th></th>\n",
       "      <th>custom_order</th>\n",
       "      <th>Anon Student Id</th>\n",
       "      <th>custom_skill</th>\n",
       "      <th>custom_answer</th>\n",
       "      <th>custom_gs_classes</th>\n",
       "    </tr>\n",
       "  </thead>\n",
       "  <tbody>\n",
       "    <tr>\n",
       "      <th>773</th>\n",
       "      <td>112149</td>\n",
       "      <td>0I891Gg</td>\n",
       "      <td>Plot non-terminating improper fraction (Custom)</td>\n",
       "      <td>0</td>\n",
       "      <td>RATIONAL1-014</td>\n",
       "    </tr>\n",
       "    <tr>\n",
       "      <th>774</th>\n",
       "      <td>112151</td>\n",
       "      <td>0I891Gg</td>\n",
       "      <td>Plot imperfect radical (Custom)</td>\n",
       "      <td>0</td>\n",
       "      <td>RATIONAL1-041</td>\n",
       "    </tr>\n",
       "    <tr>\n",
       "      <th>775</th>\n",
       "      <td>112156</td>\n",
       "      <td>0I891Gg</td>\n",
       "      <td>Plot terminating proper fraction (Custom)</td>\n",
       "      <td>0</td>\n",
       "      <td>RATIONAL1-104</td>\n",
       "    </tr>\n",
       "    <tr>\n",
       "      <th>776</th>\n",
       "      <td>112157</td>\n",
       "      <td>0I891Gg</td>\n",
       "      <td>Plot pi (Custom)</td>\n",
       "      <td>1</td>\n",
       "      <td>RATIONAL1-122</td>\n",
       "    </tr>\n",
       "    <tr>\n",
       "      <th>777</th>\n",
       "      <td>112159</td>\n",
       "      <td>0I891Gg</td>\n",
       "      <td>Plot terminating proper fraction (Custom)</td>\n",
       "      <td>1</td>\n",
       "      <td>RATIONAL1-180</td>\n",
       "    </tr>\n",
       "  </tbody>\n",
       "</table>\n",
       "</div>"
      ],
      "text/plain": [
       "     custom_order Anon Student Id  ... custom_answer  custom_gs_classes\n",
       "773        112149         0I891Gg  ...             0      RATIONAL1-014\n",
       "774        112151         0I891Gg  ...             0      RATIONAL1-041\n",
       "775        112156         0I891Gg  ...             0      RATIONAL1-104\n",
       "776        112157         0I891Gg  ...             1      RATIONAL1-122\n",
       "777        112159         0I891Gg  ...             1      RATIONAL1-180\n",
       "\n",
       "[5 rows x 5 columns]"
      ]
     },
     "execution_count": 27,
     "metadata": {
      "tags": []
     },
     "output_type": "execute_result"
    }
   ],
   "source": [
    "# We'll use this mapping with the modified CogTutor dataset with the names\n",
    "# we chose for the columns.\n",
    "#\n",
    "# Note that Row is the order ID (order_id), KC(Default) is the \n",
    "# skill name (skill_name), Correct First Attempt is correct, and \n",
    "# Problem Name is the corresponding guess/slip class column.\n",
    "\n",
    "columns = ['Row', 'Anon Student Id', 'KC(Default)', \n",
    "           'Correct First Attempt', 'Problem Name']\n",
    "my_df = ct_df[columns]\n",
    "my_df.columns = ['custom_order', 'Anon Student Id',\n",
    "                 'custom_skill', 'custom_answer',\n",
    "                 'custom_gs_classes']\n",
    "my_df['custom_skill'] += ' (Custom)'\n",
    "my_df.head(5)"
   ]
  },
  {
   "cell_type": "code",
   "execution_count": null,
   "metadata": {
    "colab": {
     "base_uri": "https://localhost:8080/",
     "height": 457
    },
    "id": "mjD0bbpVIUIu",
    "outputId": "51e80a23-796d-4cc8-86f5-7bd1b0017dc1"
   },
   "outputs": [
    {
     "data": {
      "text/html": [
       "<div>\n",
       "<style scoped>\n",
       "    .dataframe tbody tr th:only-of-type {\n",
       "        vertical-align: middle;\n",
       "    }\n",
       "\n",
       "    .dataframe tbody tr th {\n",
       "        vertical-align: top;\n",
       "    }\n",
       "\n",
       "    .dataframe thead th {\n",
       "        text-align: right;\n",
       "    }\n",
       "</style>\n",
       "<table border=\"1\" class=\"dataframe\">\n",
       "  <thead>\n",
       "    <tr style=\"text-align: right;\">\n",
       "      <th></th>\n",
       "      <th>auc</th>\n",
       "    </tr>\n",
       "    <tr>\n",
       "      <th>skill</th>\n",
       "      <th></th>\n",
       "    </tr>\n",
       "  </thead>\n",
       "  <tbody>\n",
       "    <tr>\n",
       "      <th>Plot non-terminating improper fraction (Custom)</th>\n",
       "      <td>0.64862</td>\n",
       "    </tr>\n",
       "    <tr>\n",
       "      <th>Plot imperfect radical (Custom)</th>\n",
       "      <td>0.63104</td>\n",
       "    </tr>\n",
       "    <tr>\n",
       "      <th>Plot terminating proper fraction (Custom)</th>\n",
       "      <td>0.56645</td>\n",
       "    </tr>\n",
       "    <tr>\n",
       "      <th>Plot pi (Custom)</th>\n",
       "      <td>0.56547</td>\n",
       "    </tr>\n",
       "    <tr>\n",
       "      <th>Plot whole number (Custom)</th>\n",
       "      <td>0.54112</td>\n",
       "    </tr>\n",
       "    <tr>\n",
       "      <th>Plot decimal - thousandths (Custom)</th>\n",
       "      <td>0.62520</td>\n",
       "    </tr>\n",
       "    <tr>\n",
       "      <th>Calculate unit rate (Custom)</th>\n",
       "      <td>0.60294</td>\n",
       "    </tr>\n",
       "    <tr>\n",
       "      <th>Calculate part in proportion with fractions (Custom)</th>\n",
       "      <td>0.67254</td>\n",
       "    </tr>\n",
       "    <tr>\n",
       "      <th>Calculate total in proportion with fractions (Custom)</th>\n",
       "      <td>0.70983</td>\n",
       "    </tr>\n",
       "    <tr>\n",
       "      <th>Finding the intersection, Mixed (Custom)</th>\n",
       "      <td>0.52440</td>\n",
       "    </tr>\n",
       "    <tr>\n",
       "      <th>Finding the intersection, GLF (Custom)</th>\n",
       "      <td>0.60409</td>\n",
       "    </tr>\n",
       "    <tr>\n",
       "      <th>Finding the intersection, SIF (Custom)</th>\n",
       "      <td>0.55763</td>\n",
       "    </tr>\n",
       "  </tbody>\n",
       "</table>\n",
       "</div>"
      ],
      "text/plain": [
       "                                                       auc\n",
       "skill                                                     \n",
       "Plot non-terminating improper fraction (Custom)    0.64862\n",
       "Plot imperfect radical (Custom)                    0.63104\n",
       "Plot terminating proper fraction (Custom)          0.56645\n",
       "Plot pi (Custom)                                   0.56547\n",
       "Plot whole number (Custom)                         0.54112\n",
       "Plot decimal - thousandths (Custom)                0.62520\n",
       "Calculate unit rate (Custom)                       0.60294\n",
       "Calculate part in proportion with fractions (Cu... 0.67254\n",
       "Calculate total in proportion with fractions (C... 0.70983\n",
       "Finding the intersection, Mixed (Custom)           0.52440\n",
       "Finding the intersection, GLF (Custom)             0.60409\n",
       "Finding the intersection, SIF (Custom)             0.55763"
      ]
     },
     "execution_count": 28,
     "metadata": {
      "tags": []
     },
     "output_type": "execute_result"
    }
   ],
   "source": [
    "# We can crossvalidate/fit given these default column mappings.\n",
    "model.crossvalidate(data = my_df, metric = 'auc',\n",
    "                    defaults = defaults)"
   ]
  },
  {
   "cell_type": "markdown",
   "metadata": {
    "id": "FlNY_s5ThMrm"
   },
   "source": [
    "### Sample Case Studies"
   ]
  },
  {
   "cell_type": "code",
   "execution_count": null,
   "metadata": {
    "colab": {
     "base_uri": "https://localhost:8080/",
     "height": 269
    },
    "id": "hlvUaJXBV2S3",
    "outputId": "2bddbde3-8faf-4b56-bcec-5e3b50700504"
   },
   "outputs": [
    {
     "data": {
      "text/html": [
       "<div>\n",
       "<style scoped>\n",
       "    .dataframe tbody tr th:only-of-type {\n",
       "        vertical-align: middle;\n",
       "    }\n",
       "\n",
       "    .dataframe tbody tr th {\n",
       "        vertical-align: top;\n",
       "    }\n",
       "\n",
       "    .dataframe thead th {\n",
       "        text-align: right;\n",
       "    }\n",
       "</style>\n",
       "<table border=\"1\" class=\"dataframe\">\n",
       "  <thead>\n",
       "    <tr style=\"text-align: right;\">\n",
       "      <th></th>\n",
       "      <th>RMSE</th>\n",
       "    </tr>\n",
       "    <tr>\n",
       "      <th>model type</th>\n",
       "      <th></th>\n",
       "    </tr>\n",
       "  </thead>\n",
       "  <tbody>\n",
       "    <tr>\n",
       "      <th>simple</th>\n",
       "      <td>0.32919</td>\n",
       "    </tr>\n",
       "    <tr>\n",
       "      <th>multilearn</th>\n",
       "      <td>0.32567</td>\n",
       "    </tr>\n",
       "    <tr>\n",
       "      <th>multigs</th>\n",
       "      <td>0.29830</td>\n",
       "    </tr>\n",
       "    <tr>\n",
       "      <th>forgets</th>\n",
       "      <td>0.27884</td>\n",
       "    </tr>\n",
       "    <tr>\n",
       "      <th>multigs + forgets</th>\n",
       "      <td>0.26628</td>\n",
       "    </tr>\n",
       "    <tr>\n",
       "      <th>multilearn + forgets</th>\n",
       "      <td>0.26790</td>\n",
       "    </tr>\n",
       "  </tbody>\n",
       "</table>\n",
       "</div>"
      ],
      "text/plain": [
       "                        RMSE\n",
       "model type                  \n",
       "simple               0.32919\n",
       "multilearn           0.32567\n",
       "multigs              0.29830\n",
       "forgets              0.27884\n",
       "multigs + forgets    0.26628\n",
       "multilearn + forgets 0.26790"
      ]
     },
     "execution_count": 29,
     "metadata": {
      "tags": []
     },
     "output_type": "execute_result"
    }
   ],
   "source": [
    "# Question 1: Which model variant has the smallest training loss for \n",
    "# \"Venn Diagram\" in as.csv?\n",
    "models = {}\n",
    "\n",
    "model = Model(seed = 42, num_fits = 1)\n",
    "model.fit(data_path=\"as.csv\", skills=\"Venn Diagram\")\n",
    "models['simple'] = model.evaluate(data_path=\"as.csv\")\n",
    "model.fit(data_path=\"as.csv\", skills=\"Venn Diagram\", multilearn=True)\n",
    "models['multilearn'] = model.evaluate(data_path=\"as.csv\")\n",
    "model.fit(data_path=\"as.csv\", skills=\"Venn Diagram\", multigs=True)\n",
    "models['multigs'] = model.evaluate(data_path=\"as.csv\")\n",
    "model.fit(data_path=\"as.csv\", skills=\"Venn Diagram\", forgets=True)\n",
    "models['forgets'] = model.evaluate(data_path=\"as.csv\")\n",
    "model.fit(data_path=\"as.csv\", skills=\"Venn Diagram\", forgets=True, \n",
    "          multigs = True)\n",
    "models['multigs + forgets'] = model.evaluate(data_path=\"as.csv\")\n",
    "model.fit(data_path=\"as.csv\", skills=\"Venn Diagram\", forgets=True,\n",
    "          multilearn = True)\n",
    "models['multilearn + forgets'] = model.evaluate(data_path=\"as.csv\")\n",
    "\n",
    "df = pd.DataFrame(models.items())\n",
    "df.columns = ['model type', 'RMSE']\n",
    "df.set_index('model type')"
   ]
  },
  {
   "cell_type": "code",
   "execution_count": null,
   "metadata": {
    "colab": {
     "base_uri": "https://localhost:8080/"
    },
    "id": "aMVhqxjSXd9P",
    "outputId": "573d72ab-b951-49d2-f281-025dd7a48cd0"
   },
   "outputs": [
    {
     "name": "stdout",
     "output_type": "stream",
     "text": [
      "------------------\n",
      "SKILL: Calculate unit rate\n",
      "Basic: 0.6029212482472224\n",
      "Anon Student Id: 0.4433024027292545\n",
      "Problem Hierarchy: 0.6029328680430946\n",
      "Problem Name: 0.5706267739872561\n",
      "Problem View: 0.6018308933374668\n",
      "Step Name: 0.5950393175487199\n",
      "Correct First Attempt: 0.5968104961702994\n",
      "Incorrects: 0.60730901611123\n",
      "Hints: 0.6108428583177534\n",
      "Opportunity(Default): 0.606798379226061\n",
      "------------------\n",
      "SKILL: Calculate part in proportion with fractions\n",
      "Basic: 0.672405329060935\n",
      "Anon Student Id: 0.48860434767813155\n",
      "Problem Hierarchy: 0.6726911459278089\n",
      "Problem Name: 0.620600581245982\n",
      "Problem View: 0.6709367227168245\n",
      "Step Name: 0.6725360936022711\n",
      "Correct First Attempt: 0.6724350301524716\n",
      "Incorrects: 0.6644919012683461\n",
      "Hints: 0.6737719222120621\n",
      "Opportunity(Default): 0.680056853815457\n"
     ]
    }
   ],
   "source": [
    "# Question 2: Which columns work the best for the multilearn skills\n",
    "# below in ct.csv?\n",
    "\n",
    "skills = ['Calculate unit rate',\n",
    "          'Calculate part in proportion with fractions']\n",
    "column_names = [\"Anon Student Id\", \"Problem Hierarchy\", \"Problem Name\", \n",
    "                \"Problem View\", \"Step Name\", \"Correct First Attempt\", \n",
    "                \"Incorrects\", \"Hints\", \"Opportunity(Default)\"]\n",
    "model = Model(num_fits = 1)\n",
    "for skill in skills:\n",
    "  print(\"------------------\")\n",
    "  print(\"SKILL: %s\" % skill)\n",
    "  print(\"Basic:\", model.crossvalidate(data_path=\"ct.csv\", \n",
    "                                    skills=skill,\n",
    "                                    metric = 'auc').iloc[0, 0])\n",
    "  for i in column_names:\n",
    "    print(\"%s:\" % i, model.crossvalidate(data_path=\"ct.csv\", \n",
    "                                              skills=skill, \n",
    "                                              multilearn=i,\n",
    "                                              metric = 'auc').iloc[0, 0])"
   ]
  },
  {
   "cell_type": "code",
   "execution_count": null,
   "metadata": {
    "colab": {
     "base_uri": "https://localhost:8080/",
     "height": 675
    },
    "id": "vc28HymA2NHs",
    "outputId": "f94d4b50-144d-428c-b8cc-2fafb42e334d"
   },
   "outputs": [
    {
     "name": "stdout",
     "output_type": "stream",
     "text": [
      "RMSE Improvement using Resp. Time: 0.004480\n"
     ]
    },
    {
     "data": {
      "text/html": [
       "<div>\n",
       "<style scoped>\n",
       "    .dataframe tbody tr th:only-of-type {\n",
       "        vertical-align: middle;\n",
       "    }\n",
       "\n",
       "    .dataframe tbody tr th {\n",
       "        vertical-align: top;\n",
       "    }\n",
       "\n",
       "    .dataframe thead th {\n",
       "        text-align: right;\n",
       "    }\n",
       "</style>\n",
       "<table border=\"1\" class=\"dataframe\">\n",
       "  <thead>\n",
       "    <tr style=\"text-align: right;\">\n",
       "      <th></th>\n",
       "      <th>mean learn rate</th>\n",
       "    </tr>\n",
       "    <tr>\n",
       "      <th>class</th>\n",
       "      <th></th>\n",
       "    </tr>\n",
       "  </thead>\n",
       "  <tbody>\n",
       "    <tr>\n",
       "      <th>less than 10s</th>\n",
       "      <td>0.09379</td>\n",
       "    </tr>\n",
       "    <tr>\n",
       "      <th>less than 20s</th>\n",
       "      <td>0.25955</td>\n",
       "    </tr>\n",
       "    <tr>\n",
       "      <th>less than 30s</th>\n",
       "      <td>0.31231</td>\n",
       "    </tr>\n",
       "    <tr>\n",
       "      <th>less than 40s</th>\n",
       "      <td>0.29564</td>\n",
       "    </tr>\n",
       "    <tr>\n",
       "      <th>less than 50s</th>\n",
       "      <td>0.27653</td>\n",
       "    </tr>\n",
       "    <tr>\n",
       "      <th>other</th>\n",
       "      <td>0.30924</td>\n",
       "    </tr>\n",
       "  </tbody>\n",
       "</table>\n",
       "</div>"
      ],
      "text/plain": [
       "               mean learn rate\n",
       "class                         \n",
       "less than 10s          0.09379\n",
       "less than 20s          0.25955\n",
       "less than 30s          0.31231\n",
       "less than 40s          0.29564\n",
       "less than 50s          0.27653\n",
       "other                  0.30924"
      ]
     },
     "execution_count": 31,
     "metadata": {
      "tags": []
     },
     "output_type": "execute_result"
    },
    {
     "data": {
      "image/png": "[encoded data removed]",
      "text/plain": [
       "<Figure size 864x432 with 1 Axes>"
      ]
     },
     "metadata": {
      "needs_background": "light",
      "tags": []
     },
     "output_type": "display_data"
    }
   ],
   "source": [
    "# Question 3: Does binned response time have an effect on the learn rate?\n",
    "# Does it improve the RMSE of the model compared to the normal template_id\n",
    "# based multilearn/guess?\n",
    "\n",
    "as_df = pd.read_csv('as.csv', encoding = 'latin')\n",
    "learn_maps = {0: 'less than 10s', \n",
    "              1: 'less than 20s', \n",
    "              2: 'less than 30s', \n",
    "              3: 'less than 40s', \n",
    "              4: 'less than 50s'}\n",
    "as_df['resp_t'] = (as_df['ms_first_response'] // 10000) \\\n",
    "                  .map(learn_maps).fillna('other')\n",
    "model.fit(data = as_df, multilearn = 'resp_t')\n",
    "params_df = model.params().reset_index()\n",
    "plt.figure(figsize = (12, 6))\n",
    "params_df[params_df['param'] == 'learns'].groupby('class')['value'] \\\n",
    "                                         .plot.kde(bw_method=0.2)\n",
    "plt.xlim((0, 1))\n",
    "plt.legend()\n",
    "plt.title('Frequency of Learn Rate Parameters with Response Time')\n",
    "plt.xlabel('Learn Rate')\n",
    "\n",
    "simple_rmse = model.crossvalidate(data = as_df)\n",
    "resptime_combo_rmse = model.crossvalidate(data = as_df,\n",
    "                                              multigs = 'resp_t',\n",
    "                                              multilearn = 'resp_t')\n",
    "normal_combo_rmse = model.crossvalidate(data = as_df,\n",
    "                                        multigs = True,\n",
    "                                        multilearn = True)\n",
    "rmse_diff = (resptime_combo_rmse - normal_combo_rmse)['rmse'].mean()\n",
    "print(\"RMSE Improvement using Resp. Time: %f\" % rmse_diff)\n",
    "params_df[params_df['param'] == 'learns'].groupby('class') \\\n",
    "                                         .mean()[['value']] \\\n",
    "                                         .rename(columns = {'value': \n",
    "                                                  'mean learn rate'})"
   ]
  },
  {
   "cell_type": "markdown",
   "metadata": {
    "id": "vWUoDPqDg5QM"
   },
   "source": [
    "### Summary\n",
    "\n",
    "The following is a summary of most of the key features of BKT."
   ]
  },
  {
   "cell_type": "code",
   "execution_count": null,
   "metadata": {
    "colab": {
     "base_uri": "https://localhost:8080/",
     "height": 477
    },
    "id": "vZCxVD0zKhHh",
    "outputId": "c0eefd9d-62cf-4dbd-fc90-31acee4aa18a"
   },
   "outputs": [
    {
     "name": "stdout",
     "output_type": "stream",
     "text": [
      "Training MAE: 0.412150\n"
     ]
    },
    {
     "data": {
      "text/html": [
       "<div>\n",
       "<style scoped>\n",
       "    .dataframe tbody tr th:only-of-type {\n",
       "        vertical-align: middle;\n",
       "    }\n",
       "\n",
       "    .dataframe tbody tr th {\n",
       "        vertical-align: top;\n",
       "    }\n",
       "\n",
       "    .dataframe thead th {\n",
       "        text-align: right;\n",
       "    }\n",
       "</style>\n",
       "<table border=\"1\" class=\"dataframe\">\n",
       "  <thead>\n",
       "    <tr style=\"text-align: right;\">\n",
       "      <th></th>\n",
       "      <th>mae</th>\n",
       "    </tr>\n",
       "    <tr>\n",
       "      <th>skill</th>\n",
       "      <th></th>\n",
       "    </tr>\n",
       "  </thead>\n",
       "  <tbody>\n",
       "    <tr>\n",
       "      <th>Plot non-terminating improper fraction</th>\n",
       "      <td>0.46295</td>\n",
       "    </tr>\n",
       "    <tr>\n",
       "      <th>Plot imperfect radical</th>\n",
       "      <td>0.38303</td>\n",
       "    </tr>\n",
       "    <tr>\n",
       "      <th>Plot terminating proper fraction</th>\n",
       "      <td>0.49208</td>\n",
       "    </tr>\n",
       "    <tr>\n",
       "      <th>Plot pi</th>\n",
       "      <td>0.42398</td>\n",
       "    </tr>\n",
       "    <tr>\n",
       "      <th>Plot whole number</th>\n",
       "      <td>0.16818</td>\n",
       "    </tr>\n",
       "    <tr>\n",
       "      <th>Plot decimal - thousandths</th>\n",
       "      <td>0.44595</td>\n",
       "    </tr>\n",
       "    <tr>\n",
       "      <th>Calculate unit rate</th>\n",
       "      <td>0.46563</td>\n",
       "    </tr>\n",
       "    <tr>\n",
       "      <th>Calculate part in proportion with fractions</th>\n",
       "      <td>0.36648</td>\n",
       "    </tr>\n",
       "    <tr>\n",
       "      <th>Calculate total in proportion with fractions</th>\n",
       "      <td>0.36141</td>\n",
       "    </tr>\n",
       "    <tr>\n",
       "      <th>Finding the intersection, Mixed</th>\n",
       "      <td>0.49733</td>\n",
       "    </tr>\n",
       "    <tr>\n",
       "      <th>Finding the intersection, GLF</th>\n",
       "      <td>0.47451</td>\n",
       "    </tr>\n",
       "    <tr>\n",
       "      <th>Finding the intersection, SIF</th>\n",
       "      <td>0.47813</td>\n",
       "    </tr>\n",
       "  </tbody>\n",
       "</table>\n",
       "</div>"
      ],
      "text/plain": [
       "                                                 mae\n",
       "skill                                               \n",
       "Plot non-terminating improper fraction       0.46295\n",
       "Plot imperfect radical                       0.38303\n",
       "Plot terminating proper fraction             0.49208\n",
       "Plot pi                                      0.42398\n",
       "Plot whole number                            0.16818\n",
       "Plot decimal - thousandths                   0.44595\n",
       "Calculate unit rate                          0.46563\n",
       "Calculate part in proportion with fractions  0.36648\n",
       "Calculate total in proportion with fractions 0.36141\n",
       "Finding the intersection, Mixed              0.49733\n",
       "Finding the intersection, GLF                0.47451\n",
       "Finding the intersection, SIF                0.47813"
      ]
     },
     "execution_count": 32,
     "metadata": {
      "tags": []
     },
     "output_type": "execute_result"
    }
   ],
   "source": [
    "# Let's summarize.\n",
    "def mae(true_vals, pred_vals):\n",
    "  \"\"\" Calculates the mean absolute error. \"\"\"\n",
    "  return np.mean(np.abs(true_vals - pred_vals))\n",
    "\n",
    "# This code fetches data, fits, predicts, evaluates and crossvalidates\n",
    "# a BKT model on all skills in Cognitive Tutor. It uses the mean absolute\n",
    "# error as the desired error metric.\n",
    "model = Model(seed = 42, num_fits = 5)\n",
    "model.fit(data_path = 'ct.csv')\n",
    "preds_df = model.predict(data_path = 'ct.csv')\n",
    "mae_error = model.evaluate(data_path = 'ct.csv', metric = mae)\n",
    "cv_errors = model.crossvalidate(data_path = 'ct.csv', metric = mae)\n",
    "params_df = model.params()\n",
    "print(\"Training MAE: %f\" % mae_error)\n",
    "cv_errors"
   ]
  }
 ],
 "metadata": {
  "colab": {
   "collapsed_sections": [
    "8vXtO4xCL_7p",
    "h6q--qwhPtWW",
    "2RTLXJzSTdmq",
    "qkiQ1CbrWbrQ",
    "KjKaP64rdzyy",
    "FlNY_s5ThMrm",
    "vWUoDPqDg5QM"
   ],
   "name": "pyBKT Model Tutorial.ipynb",
   "provenance": []
  },
  "kernelspec": {
   "display_name": "Python 3 (ipykernel)",
   "language": "python",
   "name": "python3"
  },
  "language_info": {
   "codemirror_mode": {
    "name": "ipython",
    "version": 3
   },
   "file_extension": ".py",
   "mimetype": "text/x-python",
   "name": "python",
   "nbconvert_exporter": "python",
   "pygments_lexer": "ipython3",
   "version": "3.8.12"
  }
 },
 "nbformat": 4,
 "nbformat_minor": 1
}
